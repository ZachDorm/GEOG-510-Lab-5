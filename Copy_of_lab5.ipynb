{
  "cells": [
    {
      "cell_type": "markdown",
      "metadata": {
        "id": "view-in-github",
        "colab_type": "text"
      },
      "source": [
        "<a href=\"https://colab.research.google.com/github/ZachDorm/GEOG-510-Lab-5/blob/main/Copy_of_lab5.ipynb\" target=\"_parent\"><img src=\"https://colab.research.google.com/assets/colab-badge.svg\" alt=\"Open In Colab\"/></a>"
      ]
    },
    {
      "cell_type": "markdown",
      "id": "4e70be69",
      "metadata": {
        "id": "4e70be69"
      },
      "source": [
        "# Lab 5\n",
        "\n",
        "## Submission instructions\n",
        "\n",
        "1. Download the notebook from https://geosdemo.gishub.org/labs/lab5\n",
        "2. Complete the lab questions\n",
        "3. Restart Kernel and Run All Cells\n",
        "4. Upload the notebook to your GitHub repository\n",
        "5. Make sure the notebook has an `Open In Colab` badge. Click on the badge to make sure your notebook can be opened in Colab.\n",
        "6. Submit the link to the notebook on your GitHub repository to Canvas"
      ]
    },
    {
      "cell_type": "code",
      "execution_count": 1,
      "id": "8de60915",
      "metadata": {
        "id": "8de60915",
        "colab": {
          "base_uri": "https://localhost:8080/"
        },
        "outputId": "7acbdfa4-1e1c-4cae-8e21-273035ebcb0a"
      },
      "outputs": [
        {
          "output_type": "stream",
          "name": "stdout",
          "text": [
            "Submitted time: 2023-03-22 03:41:32.091981\n"
          ]
        }
      ],
      "source": [
        "from datetime import datetime\n",
        "\n",
        "now = datetime.now()\n",
        "print(f\"Submitted time: {now}\")"
      ]
    },
    {
      "cell_type": "code",
      "source": [
        "!pip install leafmap\n",
        "import leafmap"
      ],
      "metadata": {
        "id": "ZE38TIYbXRUU",
        "outputId": "b73f8e9f-6267-4e03-88bf-2b495ffa8d3f",
        "colab": {
          "base_uri": "https://localhost:8080/",
          "height": 1000
        }
      },
      "id": "ZE38TIYbXRUU",
      "execution_count": 2,
      "outputs": [
        {
          "output_type": "stream",
          "name": "stdout",
          "text": [
            "Looking in indexes: https://pypi.org/simple, https://us-python.pkg.dev/colab-wheels/public/simple/\n",
            "Collecting leafmap\n",
            "  Downloading leafmap-0.18.5-py2.py3-none-any.whl (212 kB)\n",
            "\u001b[2K     \u001b[90m━━━━━━━━━━━━━━━━━━━━━━━━━━━━━━━━━━━━━━━\u001b[0m \u001b[32m212.4/212.4 KB\u001b[0m \u001b[31m2.4 MB/s\u001b[0m eta \u001b[36m0:00:00\u001b[0m\n",
            "\u001b[?25hRequirement already satisfied: pandas in /usr/local/lib/python3.9/dist-packages (from leafmap) (1.4.4)\n",
            "Collecting colour\n",
            "  Downloading colour-0.1.5-py2.py3-none-any.whl (23 kB)\n",
            "Collecting ipyfilechooser>=0.6.0\n",
            "  Downloading ipyfilechooser-0.6.0-py3-none-any.whl (11 kB)\n",
            "Collecting ipyevents\n",
            "  Downloading ipyevents-2.0.1-py2.py3-none-any.whl (130 kB)\n",
            "\u001b[2K     \u001b[90m━━━━━━━━━━━━━━━━━━━━━━━━━━━━━━━━━━━━━━━\u001b[0m \u001b[32m130.5/130.5 KB\u001b[0m \u001b[31m9.6 MB/s\u001b[0m eta \u001b[36m0:00:00\u001b[0m\n",
            "\u001b[?25hCollecting whiteboxgui>=0.6.0\n",
            "  Downloading whiteboxgui-2.2.0-py2.py3-none-any.whl (99 kB)\n",
            "\u001b[2K     \u001b[90m━━━━━━━━━━━━━━━━━━━━━━━━━━━━━━━━━━━━━━━━\u001b[0m \u001b[32m99.6/99.6 KB\u001b[0m \u001b[31m5.9 MB/s\u001b[0m eta \u001b[36m0:00:00\u001b[0m\n",
            "\u001b[?25hCollecting bqplot\n",
            "  Downloading bqplot-0.12.36-py2.py3-none-any.whl (1.2 MB)\n",
            "\u001b[2K     \u001b[90m━━━━━━━━━━━━━━━━━━━━━━━━━━━━━━━━━━━━━━━━\u001b[0m \u001b[32m1.2/1.2 MB\u001b[0m \u001b[31m20.7 MB/s\u001b[0m eta \u001b[36m0:00:00\u001b[0m\n",
            "\u001b[?25hRequirement already satisfied: numpy in /usr/local/lib/python3.9/dist-packages (from leafmap) (1.22.4)\n",
            "Collecting python-box\n",
            "  Downloading python_box-7.0.1-cp39-cp39-manylinux_2_5_x86_64.manylinux1_x86_64.manylinux_2_12_x86_64.manylinux2010_x86_64.whl (3.2 MB)\n",
            "\u001b[2K     \u001b[90m━━━━━━━━━━━━━━━━━━━━━━━━━━━━━━━━━━━━━━━━\u001b[0m \u001b[32m3.2/3.2 MB\u001b[0m \u001b[31m38.8 MB/s\u001b[0m eta \u001b[36m0:00:00\u001b[0m\n",
            "\u001b[?25hCollecting scooby\n",
            "  Downloading scooby-0.7.1-py3-none-any.whl (16 kB)\n",
            "Collecting xyzservices\n",
            "  Downloading xyzservices-2023.2.0-py3-none-any.whl (55 kB)\n",
            "\u001b[2K     \u001b[90m━━━━━━━━━━━━━━━━━━━━━━━━━━━━━━━━━━━━━━━━\u001b[0m \u001b[32m55.4/55.4 KB\u001b[0m \u001b[31m2.6 MB/s\u001b[0m eta \u001b[36m0:00:00\u001b[0m\n",
            "\u001b[?25hCollecting ipyleaflet>=0.17.0\n",
            "  Downloading ipyleaflet-0.17.2-py3-none-any.whl (3.7 MB)\n",
            "\u001b[2K     \u001b[90m━━━━━━━━━━━━━━━━━━━━━━━━━━━━━━━━━━━━━━━━\u001b[0m \u001b[32m3.7/3.7 MB\u001b[0m \u001b[31m17.8 MB/s\u001b[0m eta \u001b[36m0:00:00\u001b[0m\n",
            "\u001b[?25hRequirement already satisfied: ipywidgets<8.0.0 in /usr/local/lib/python3.9/dist-packages (from leafmap) (7.7.1)\n",
            "Collecting geojson\n",
            "  Downloading geojson-3.0.1-py3-none-any.whl (15 kB)\n",
            "Requirement already satisfied: gdown in /usr/local/lib/python3.9/dist-packages (from leafmap) (4.6.4)\n",
            "Requirement already satisfied: matplotlib in /usr/local/lib/python3.9/dist-packages (from leafmap) (3.7.1)\n",
            "Collecting pyshp>=2.1.3\n",
            "  Downloading pyshp-2.3.1-py2.py3-none-any.whl (46 kB)\n",
            "\u001b[2K     \u001b[90m━━━━━━━━━━━━━━━━━━━━━━━━━━━━━━━━━━━━━━━━\u001b[0m \u001b[32m46.5/46.5 KB\u001b[0m \u001b[31m3.0 MB/s\u001b[0m eta \u001b[36m0:00:00\u001b[0m\n",
            "\u001b[?25hCollecting pystac-client\n",
            "  Downloading pystac_client-0.6.1-py3-none-any.whl (30 kB)\n",
            "Collecting folium<=0.13.0,>=0.11.0\n",
            "  Downloading folium-0.13.0-py2.py3-none-any.whl (96 kB)\n",
            "\u001b[2K     \u001b[90m━━━━━━━━━━━━━━━━━━━━━━━━━━━━━━━━━━━━━━━━\u001b[0m \u001b[32m96.5/96.5 KB\u001b[0m \u001b[31m3.5 MB/s\u001b[0m eta \u001b[36m0:00:00\u001b[0m\n",
            "\u001b[?25hRequirement already satisfied: branca>=0.3.0 in /usr/local/lib/python3.9/dist-packages (from folium<=0.13.0,>=0.11.0->leafmap) (0.6.0)\n",
            "Requirement already satisfied: requests in /usr/local/lib/python3.9/dist-packages (from folium<=0.13.0,>=0.11.0->leafmap) (2.27.1)\n",
            "Requirement already satisfied: jinja2>=2.9 in /usr/local/lib/python3.9/dist-packages (from folium<=0.13.0,>=0.11.0->leafmap) (3.1.2)\n",
            "Collecting traittypes<3,>=0.2.1\n",
            "  Downloading traittypes-0.2.1-py2.py3-none-any.whl (8.6 kB)\n",
            "Requirement already satisfied: widgetsnbextension~=3.6.0 in /usr/local/lib/python3.9/dist-packages (from ipywidgets<8.0.0->leafmap) (3.6.2)\n",
            "Requirement already satisfied: ipython-genutils~=0.2.0 in /usr/local/lib/python3.9/dist-packages (from ipywidgets<8.0.0->leafmap) (0.2.0)\n",
            "Requirement already satisfied: ipykernel>=4.5.1 in /usr/local/lib/python3.9/dist-packages (from ipywidgets<8.0.0->leafmap) (5.3.4)\n",
            "Requirement already satisfied: ipython>=4.0.0 in /usr/local/lib/python3.9/dist-packages (from ipywidgets<8.0.0->leafmap) (7.9.0)\n",
            "Requirement already satisfied: traitlets>=4.3.1 in /usr/local/lib/python3.9/dist-packages (from ipywidgets<8.0.0->leafmap) (5.7.1)\n",
            "Requirement already satisfied: jupyterlab-widgets>=1.0.0 in /usr/local/lib/python3.9/dist-packages (from ipywidgets<8.0.0->leafmap) (3.0.5)\n",
            "Collecting whitebox\n",
            "  Downloading whitebox-2.2.0-py2.py3-none-any.whl (79 kB)\n",
            "\u001b[2K     \u001b[90m━━━━━━━━━━━━━━━━━━━━━━━━━━━━━━━━━━━━━━━━\u001b[0m \u001b[32m79.9/79.9 KB\u001b[0m \u001b[31m4.3 MB/s\u001b[0m eta \u001b[36m0:00:00\u001b[0m\n",
            "\u001b[?25hCollecting ipytree\n",
            "  Downloading ipytree-0.2.2-py2.py3-none-any.whl (1.3 MB)\n",
            "\u001b[2K     \u001b[90m━━━━━━━━━━━━━━━━━━━━━━━━━━━━━━━━━━━━━━━━\u001b[0m \u001b[32m1.3/1.3 MB\u001b[0m \u001b[31m24.2 MB/s\u001b[0m eta \u001b[36m0:00:00\u001b[0m\n",
            "\u001b[?25hRequirement already satisfied: python-dateutil>=2.8.1 in /usr/local/lib/python3.9/dist-packages (from pandas->leafmap) (2.8.2)\n",
            "Requirement already satisfied: pytz>=2020.1 in /usr/local/lib/python3.9/dist-packages (from pandas->leafmap) (2022.7.1)\n",
            "Requirement already satisfied: six in /usr/local/lib/python3.9/dist-packages (from gdown->leafmap) (1.16.0)\n",
            "Requirement already satisfied: beautifulsoup4 in /usr/local/lib/python3.9/dist-packages (from gdown->leafmap) (4.11.2)\n",
            "Requirement already satisfied: tqdm in /usr/local/lib/python3.9/dist-packages (from gdown->leafmap) (4.65.0)\n",
            "Requirement already satisfied: filelock in /usr/local/lib/python3.9/dist-packages (from gdown->leafmap) (3.10.0)\n",
            "Requirement already satisfied: pyparsing>=2.3.1 in /usr/local/lib/python3.9/dist-packages (from matplotlib->leafmap) (3.0.9)\n",
            "Requirement already satisfied: pillow>=6.2.0 in /usr/local/lib/python3.9/dist-packages (from matplotlib->leafmap) (8.4.0)\n",
            "Requirement already satisfied: importlib-resources>=3.2.0 in /usr/local/lib/python3.9/dist-packages (from matplotlib->leafmap) (5.12.0)\n",
            "Requirement already satisfied: contourpy>=1.0.1 in /usr/local/lib/python3.9/dist-packages (from matplotlib->leafmap) (1.0.7)\n",
            "Requirement already satisfied: packaging>=20.0 in /usr/local/lib/python3.9/dist-packages (from matplotlib->leafmap) (23.0)\n",
            "Requirement already satisfied: cycler>=0.10 in /usr/local/lib/python3.9/dist-packages (from matplotlib->leafmap) (0.11.0)\n",
            "Requirement already satisfied: fonttools>=4.22.0 in /usr/local/lib/python3.9/dist-packages (from matplotlib->leafmap) (4.39.2)\n",
            "Requirement already satisfied: kiwisolver>=1.0.1 in /usr/local/lib/python3.9/dist-packages (from matplotlib->leafmap) (1.4.4)\n",
            "Collecting pystac>=1.7.0\n",
            "  Downloading pystac-1.7.1-py3-none-any.whl (153 kB)\n",
            "\u001b[2K     \u001b[90m━━━━━━━━━━━━━━━━━━━━━━━━━━━━━━━━━━━━━━━\u001b[0m \u001b[32m153.9/153.9 KB\u001b[0m \u001b[31m6.6 MB/s\u001b[0m eta \u001b[36m0:00:00\u001b[0m\n",
            "\u001b[?25hRequirement already satisfied: zipp>=3.1.0 in /usr/local/lib/python3.9/dist-packages (from importlib-resources>=3.2.0->matplotlib->leafmap) (3.15.0)\n",
            "Requirement already satisfied: tornado>=4.2 in /usr/local/lib/python3.9/dist-packages (from ipykernel>=4.5.1->ipywidgets<8.0.0->leafmap) (6.2)\n",
            "Requirement already satisfied: jupyter-client in /usr/local/lib/python3.9/dist-packages (from ipykernel>=4.5.1->ipywidgets<8.0.0->leafmap) (6.1.12)\n",
            "Requirement already satisfied: pickleshare in /usr/local/lib/python3.9/dist-packages (from ipython>=4.0.0->ipywidgets<8.0.0->leafmap) (0.7.5)\n",
            "Requirement already satisfied: pexpect in /usr/local/lib/python3.9/dist-packages (from ipython>=4.0.0->ipywidgets<8.0.0->leafmap) (4.8.0)\n",
            "Requirement already satisfied: decorator in /usr/local/lib/python3.9/dist-packages (from ipython>=4.0.0->ipywidgets<8.0.0->leafmap) (4.4.2)\n",
            "Requirement already satisfied: backcall in /usr/local/lib/python3.9/dist-packages (from ipython>=4.0.0->ipywidgets<8.0.0->leafmap) (0.2.0)\n",
            "Requirement already satisfied: prompt-toolkit<2.1.0,>=2.0.0 in /usr/local/lib/python3.9/dist-packages (from ipython>=4.0.0->ipywidgets<8.0.0->leafmap) (2.0.10)\n",
            "Requirement already satisfied: pygments in /usr/local/lib/python3.9/dist-packages (from ipython>=4.0.0->ipywidgets<8.0.0->leafmap) (2.6.1)\n",
            "Collecting jedi>=0.10\n",
            "  Downloading jedi-0.18.2-py2.py3-none-any.whl (1.6 MB)\n",
            "\u001b[2K     \u001b[90m━━━━━━━━━━━━━━━━━━━━━━━━━━━━━━━━━━━━━━━━\u001b[0m \u001b[32m1.6/1.6 MB\u001b[0m \u001b[31m25.5 MB/s\u001b[0m eta \u001b[36m0:00:00\u001b[0m\n",
            "\u001b[?25hRequirement already satisfied: setuptools>=18.5 in /usr/local/lib/python3.9/dist-packages (from ipython>=4.0.0->ipywidgets<8.0.0->leafmap) (63.4.3)\n",
            "Requirement already satisfied: MarkupSafe>=2.0 in /usr/local/lib/python3.9/dist-packages (from jinja2>=2.9->folium<=0.13.0,>=0.11.0->leafmap) (2.1.2)\n",
            "Requirement already satisfied: urllib3<1.27,>=1.21.1 in /usr/local/lib/python3.9/dist-packages (from requests->folium<=0.13.0,>=0.11.0->leafmap) (1.26.15)\n",
            "Requirement already satisfied: certifi>=2017.4.17 in /usr/local/lib/python3.9/dist-packages (from requests->folium<=0.13.0,>=0.11.0->leafmap) (2022.12.7)\n",
            "Requirement already satisfied: charset-normalizer~=2.0.0 in /usr/local/lib/python3.9/dist-packages (from requests->folium<=0.13.0,>=0.11.0->leafmap) (2.0.12)\n",
            "Requirement already satisfied: idna<4,>=2.5 in /usr/local/lib/python3.9/dist-packages (from requests->folium<=0.13.0,>=0.11.0->leafmap) (3.4)\n",
            "Requirement already satisfied: notebook>=4.4.1 in /usr/local/lib/python3.9/dist-packages (from widgetsnbextension~=3.6.0->ipywidgets<8.0.0->leafmap) (6.5.3)\n",
            "Requirement already satisfied: soupsieve>1.2 in /usr/local/lib/python3.9/dist-packages (from beautifulsoup4->gdown->leafmap) (2.4)\n",
            "Requirement already satisfied: PySocks!=1.5.7,>=1.5.6 in /usr/local/lib/python3.9/dist-packages (from requests->folium<=0.13.0,>=0.11.0->leafmap) (1.7.1)\n",
            "Requirement already satisfied: Click>=6.0 in /usr/local/lib/python3.9/dist-packages (from whitebox->whiteboxgui>=0.6.0->leafmap) (8.1.3)\n",
            "Requirement already satisfied: parso<0.9.0,>=0.8.0 in /usr/local/lib/python3.9/dist-packages (from jedi>=0.10->ipython>=4.0.0->ipywidgets<8.0.0->leafmap) (0.8.3)\n",
            "Requirement already satisfied: jupyter-core>=4.6.1 in /usr/local/lib/python3.9/dist-packages (from notebook>=4.4.1->widgetsnbextension~=3.6.0->ipywidgets<8.0.0->leafmap) (5.3.0)\n",
            "Requirement already satisfied: terminado>=0.8.3 in /usr/local/lib/python3.9/dist-packages (from notebook>=4.4.1->widgetsnbextension~=3.6.0->ipywidgets<8.0.0->leafmap) (0.17.1)\n",
            "Requirement already satisfied: nbformat in /usr/local/lib/python3.9/dist-packages (from notebook>=4.4.1->widgetsnbextension~=3.6.0->ipywidgets<8.0.0->leafmap) (5.7.3)\n",
            "Requirement already satisfied: argon2-cffi in /usr/local/lib/python3.9/dist-packages (from notebook>=4.4.1->widgetsnbextension~=3.6.0->ipywidgets<8.0.0->leafmap) (21.3.0)\n",
            "Requirement already satisfied: nbconvert>=5 in /usr/local/lib/python3.9/dist-packages (from notebook>=4.4.1->widgetsnbextension~=3.6.0->ipywidgets<8.0.0->leafmap) (6.5.4)\n",
            "Requirement already satisfied: Send2Trash>=1.8.0 in /usr/local/lib/python3.9/dist-packages (from notebook>=4.4.1->widgetsnbextension~=3.6.0->ipywidgets<8.0.0->leafmap) (1.8.0)\n",
            "Requirement already satisfied: nbclassic>=0.4.7 in /usr/local/lib/python3.9/dist-packages (from notebook>=4.4.1->widgetsnbextension~=3.6.0->ipywidgets<8.0.0->leafmap) (0.5.3)\n",
            "Requirement already satisfied: prometheus-client in /usr/local/lib/python3.9/dist-packages (from notebook>=4.4.1->widgetsnbextension~=3.6.0->ipywidgets<8.0.0->leafmap) (0.16.0)\n",
            "Requirement already satisfied: pyzmq>=17 in /usr/local/lib/python3.9/dist-packages (from notebook>=4.4.1->widgetsnbextension~=3.6.0->ipywidgets<8.0.0->leafmap) (23.2.1)\n",
            "Requirement already satisfied: nest-asyncio>=1.5 in /usr/local/lib/python3.9/dist-packages (from notebook>=4.4.1->widgetsnbextension~=3.6.0->ipywidgets<8.0.0->leafmap) (1.5.6)\n",
            "Requirement already satisfied: wcwidth in /usr/local/lib/python3.9/dist-packages (from prompt-toolkit<2.1.0,>=2.0.0->ipython>=4.0.0->ipywidgets<8.0.0->leafmap) (0.2.6)\n",
            "Requirement already satisfied: ptyprocess>=0.5 in /usr/local/lib/python3.9/dist-packages (from pexpect->ipython>=4.0.0->ipywidgets<8.0.0->leafmap) (0.7.0)\n",
            "Requirement already satisfied: platformdirs>=2.5 in /usr/local/lib/python3.9/dist-packages (from jupyter-core>=4.6.1->notebook>=4.4.1->widgetsnbextension~=3.6.0->ipywidgets<8.0.0->leafmap) (3.1.1)\n",
            "Requirement already satisfied: notebook-shim>=0.1.0 in /usr/local/lib/python3.9/dist-packages (from nbclassic>=0.4.7->notebook>=4.4.1->widgetsnbextension~=3.6.0->ipywidgets<8.0.0->leafmap) (0.2.2)\n",
            "Requirement already satisfied: jupyter-server>=1.8 in /usr/local/lib/python3.9/dist-packages (from nbclassic>=0.4.7->notebook>=4.4.1->widgetsnbextension~=3.6.0->ipywidgets<8.0.0->leafmap) (1.23.6)\n",
            "Requirement already satisfied: tinycss2 in /usr/local/lib/python3.9/dist-packages (from nbconvert>=5->notebook>=4.4.1->widgetsnbextension~=3.6.0->ipywidgets<8.0.0->leafmap) (1.2.1)\n",
            "Requirement already satisfied: pandocfilters>=1.4.1 in /usr/local/lib/python3.9/dist-packages (from nbconvert>=5->notebook>=4.4.1->widgetsnbextension~=3.6.0->ipywidgets<8.0.0->leafmap) (1.5.0)\n",
            "Requirement already satisfied: entrypoints>=0.2.2 in /usr/local/lib/python3.9/dist-packages (from nbconvert>=5->notebook>=4.4.1->widgetsnbextension~=3.6.0->ipywidgets<8.0.0->leafmap) (0.4)\n",
            "Requirement already satisfied: nbclient>=0.5.0 in /usr/local/lib/python3.9/dist-packages (from nbconvert>=5->notebook>=4.4.1->widgetsnbextension~=3.6.0->ipywidgets<8.0.0->leafmap) (0.7.2)\n",
            "Requirement already satisfied: defusedxml in /usr/local/lib/python3.9/dist-packages (from nbconvert>=5->notebook>=4.4.1->widgetsnbextension~=3.6.0->ipywidgets<8.0.0->leafmap) (0.7.1)\n",
            "Requirement already satisfied: jupyterlab-pygments in /usr/local/lib/python3.9/dist-packages (from nbconvert>=5->notebook>=4.4.1->widgetsnbextension~=3.6.0->ipywidgets<8.0.0->leafmap) (0.2.2)\n",
            "Requirement already satisfied: mistune<2,>=0.8.1 in /usr/local/lib/python3.9/dist-packages (from nbconvert>=5->notebook>=4.4.1->widgetsnbextension~=3.6.0->ipywidgets<8.0.0->leafmap) (0.8.4)\n",
            "Requirement already satisfied: lxml in /usr/local/lib/python3.9/dist-packages (from nbconvert>=5->notebook>=4.4.1->widgetsnbextension~=3.6.0->ipywidgets<8.0.0->leafmap) (4.9.2)\n",
            "Requirement already satisfied: bleach in /usr/local/lib/python3.9/dist-packages (from nbconvert>=5->notebook>=4.4.1->widgetsnbextension~=3.6.0->ipywidgets<8.0.0->leafmap) (6.0.0)\n",
            "Requirement already satisfied: jsonschema>=2.6 in /usr/local/lib/python3.9/dist-packages (from nbformat->notebook>=4.4.1->widgetsnbextension~=3.6.0->ipywidgets<8.0.0->leafmap) (4.3.3)\n",
            "Requirement already satisfied: fastjsonschema in /usr/local/lib/python3.9/dist-packages (from nbformat->notebook>=4.4.1->widgetsnbextension~=3.6.0->ipywidgets<8.0.0->leafmap) (2.16.3)\n",
            "Requirement already satisfied: argon2-cffi-bindings in /usr/local/lib/python3.9/dist-packages (from argon2-cffi->notebook>=4.4.1->widgetsnbextension~=3.6.0->ipywidgets<8.0.0->leafmap) (21.2.0)\n",
            "Requirement already satisfied: attrs>=17.4.0 in /usr/local/lib/python3.9/dist-packages (from jsonschema>=2.6->nbformat->notebook>=4.4.1->widgetsnbextension~=3.6.0->ipywidgets<8.0.0->leafmap) (22.2.0)\n",
            "Requirement already satisfied: pyrsistent!=0.17.0,!=0.17.1,!=0.17.2,>=0.14.0 in /usr/local/lib/python3.9/dist-packages (from jsonschema>=2.6->nbformat->notebook>=4.4.1->widgetsnbextension~=3.6.0->ipywidgets<8.0.0->leafmap) (0.19.3)\n",
            "Requirement already satisfied: anyio<4,>=3.1.0 in /usr/local/lib/python3.9/dist-packages (from jupyter-server>=1.8->nbclassic>=0.4.7->notebook>=4.4.1->widgetsnbextension~=3.6.0->ipywidgets<8.0.0->leafmap) (3.6.2)\n",
            "Requirement already satisfied: websocket-client in /usr/local/lib/python3.9/dist-packages (from jupyter-server>=1.8->nbclassic>=0.4.7->notebook>=4.4.1->widgetsnbextension~=3.6.0->ipywidgets<8.0.0->leafmap) (1.5.1)\n",
            "Requirement already satisfied: cffi>=1.0.1 in /usr/local/lib/python3.9/dist-packages (from argon2-cffi-bindings->argon2-cffi->notebook>=4.4.1->widgetsnbextension~=3.6.0->ipywidgets<8.0.0->leafmap) (1.15.1)\n",
            "Requirement already satisfied: webencodings in /usr/local/lib/python3.9/dist-packages (from bleach->nbconvert>=5->notebook>=4.4.1->widgetsnbextension~=3.6.0->ipywidgets<8.0.0->leafmap) (0.5.1)\n",
            "Requirement already satisfied: sniffio>=1.1 in /usr/local/lib/python3.9/dist-packages (from anyio<4,>=3.1.0->jupyter-server>=1.8->nbclassic>=0.4.7->notebook>=4.4.1->widgetsnbextension~=3.6.0->ipywidgets<8.0.0->leafmap) (1.3.0)\n",
            "Requirement already satisfied: pycparser in /usr/local/lib/python3.9/dist-packages (from cffi>=1.0.1->argon2-cffi-bindings->argon2-cffi->notebook>=4.4.1->widgetsnbextension~=3.6.0->ipywidgets<8.0.0->leafmap) (2.21)\n",
            "Installing collected packages: colour, xyzservices, whitebox, traittypes, scooby, python-box, pyshp, jedi, geojson, pystac, pystac-client, folium, ipytree, ipyleaflet, ipyfilechooser, ipyevents, bqplot, whiteboxgui, leafmap\n",
            "  Attempting uninstall: folium\n",
            "    Found existing installation: folium 0.14.0\n",
            "    Uninstalling folium-0.14.0:\n",
            "      Successfully uninstalled folium-0.14.0\n",
            "Successfully installed bqplot-0.12.36 colour-0.1.5 folium-0.13.0 geojson-3.0.1 ipyevents-2.0.1 ipyfilechooser-0.6.0 ipyleaflet-0.17.2 ipytree-0.2.2 jedi-0.18.2 leafmap-0.18.5 pyshp-2.3.1 pystac-1.7.1 pystac-client-0.6.1 python-box-7.0.1 scooby-0.7.1 traittypes-0.2.1 whitebox-2.2.0 whiteboxgui-2.2.0 xyzservices-2023.2.0\n"
          ]
        }
      ]
    },
    {
      "cell_type": "markdown",
      "id": "a526d1ff",
      "metadata": {
        "id": "a526d1ff"
      },
      "source": [
        "## Question 1\n",
        "\n",
        "**Person:** Use a dictionary to store information about a person you know. Store their first name, last name, age, and the city in which they live. You should have keys such as first_name, last_name, age, and city. Print each piece of information stored in your dictionary."
      ]
    },
    {
      "cell_type": "code",
      "execution_count": 3,
      "id": "060bd962",
      "metadata": {
        "colab": {
          "base_uri": "https://localhost:8080/"
        },
        "id": "060bd962",
        "outputId": "f64b16f1-c814-4871-f277-f5b72f79763b"
      },
      "outputs": [
        {
          "output_type": "stream",
          "name": "stdout",
          "text": [
            "Zach\n",
            "Dorminey\n",
            "26\n",
            "Knoxville\n"
          ]
        }
      ],
      "source": [
        "person_dictionary = {\n",
        "    \"first_name\" : \"Zach\",\n",
        "    \"last_name\" : \"Dorminey\",\n",
        "    \"age\" : 26,\n",
        "    \"city\" : \"Knoxville\"\n",
        "}\n",
        "\n",
        "print(person_dictionary[\"first_name\"])\n",
        "print(person_dictionary[\"last_name\"])\n",
        "print(person_dictionary[\"age\"])\n",
        "print(person_dictionary[\"city\"])"
      ]
    },
    {
      "cell_type": "markdown",
      "id": "32bb120e",
      "metadata": {
        "id": "32bb120e"
      },
      "source": [
        "## Question 2\n",
        "\n",
        "**Favorite Numbers:** Use a dictionary to store people’s favorite numbers. Think of five names, and use them as keys in your dictionary. Think of a favorite number for each person, and store each as a value in your dictionary. Print each person’s name and their favorite number. For even more fun, poll a few friends and get some actual data for your program."
      ]
    },
    {
      "cell_type": "code",
      "execution_count": 4,
      "id": "37115a33",
      "metadata": {
        "colab": {
          "base_uri": "https://localhost:8080/"
        },
        "id": "37115a33",
        "outputId": "0d38d2cb-ae48-4bbe-bfd0-d22c07f3f1cf"
      },
      "outputs": [
        {
          "output_type": "stream",
          "name": "stdout",
          "text": [
            "Sue   13\n",
            "Sally   3\n",
            "Sam   23\n",
            "Jill   11\n",
            "Jim   17\n"
          ]
        }
      ],
      "source": [
        "fav_nums = {\n",
        "    \"Sue\" : 13,\n",
        "    \"Sally\" : 3,\n",
        "    \"Sam\" : 23,\n",
        "    \"Jill\" : 11,\n",
        "    \"Jim\" : 17\n",
        "}\n",
        "\n",
        "keys = fav_nums.keys()\n",
        "\n",
        "for key in keys:\n",
        "  print(key, \" \", fav_nums[key])\n"
      ]
    },
    {
      "cell_type": "markdown",
      "id": "eb31ca53",
      "metadata": {
        "id": "eb31ca53"
      },
      "source": [
        "## Question 3\n",
        "\n",
        "**Glossary:** A Python dictionary can be used to model an actual dictionary. However, to avoid confusion, let’s call it a glossary.\n",
        "\n",
        "- Think of five programming words you’ve learned about in the previous chapters. Use these words as the keys in your glossary, and store their meanings as values.\n",
        "- Print each word and its meaning as neatly formatted output. You might print the word followed by a colon and then its meaning, or print the word on one line and then print its meaning indented on a second line. Use the newline character (\\n) to insert a blank line between each word-meaning pair in your output."
      ]
    },
    {
      "cell_type": "code",
      "execution_count": 5,
      "id": "7bdd7f86",
      "metadata": {
        "id": "7bdd7f86",
        "colab": {
          "base_uri": "https://localhost:8080/"
        },
        "outputId": "54cf8f86-4b98-478a-a584-0d65371c9b19"
      },
      "outputs": [
        {
          "output_type": "stream",
          "name": "stdout",
          "text": [
            "return \n",
            "\t The value following this statement will be the value returned when a method/function terminates. \n",
            "\n",
            "break \n",
            "\t The current loop will stop and the operation will return to the next outer loop if loops are nested, or just stop computation. \n",
            "\n",
            "for \n",
            "\t The beginning of a for loop where each item in a list or matrix will be iterated through. \n",
            "\n",
            "while \n",
            "\t The conditional statement that follows this will be checked, as long as this statement is TRUE, the contents inside will be run. Then the conditional statement will be checked again. \n",
            "\n",
            "elif \n",
            "\t Traditionally else-if meaning the following chuck of code should be run if the preceding if statements returned FALSE and the conditional statement following this keyword is TRUE. \n",
            "\n"
          ]
        }
      ],
      "source": [
        "programming = {\n",
        "    \"return\": \"The value following this statement will be the value returned when a method/function terminates.\",\n",
        "    \"break\": \"The current loop will stop and the operation will return to the next outer loop if loops are nested, or just stop computation.\",\n",
        "    \"for\": \"The beginning of a for loop where each item in a list or matrix will be iterated through.\",\n",
        "    \"while\": \"The conditional statement that follows this will be checked, as long as this statement is TRUE, the contents inside will be run. Then the conditional statement will be checked again.\",\n",
        "    \"elif\": \"Traditionally else-if meaning the following chuck of code should be run if the preceding if statements returned FALSE and the conditional statement following this keyword is TRUE.\"\n",
        "}\n",
        "\n",
        "keys = programming.keys()\n",
        "\n",
        "for key in keys:\n",
        "  print(key, \"\\n\\t\", programming[key], \"\\n\")"
      ]
    },
    {
      "cell_type": "markdown",
      "id": "9bdb2d85",
      "metadata": {
        "id": "9bdb2d85"
      },
      "source": [
        "## Question 4\n",
        "\n",
        "**Glossary 2:** Now that you know how to loop through a dictionary, clean up the code from Question 3 by replacing your series of print() calls with a loop that runs through the dictionary’s keys and values. When you’re sure that your loop works, add five more Python terms to your glossary. When you run your program again, these new words and meanings should automatically be included in the output."
      ]
    },
    {
      "cell_type": "code",
      "execution_count": 6,
      "id": "018d37ff",
      "metadata": {
        "id": "018d37ff",
        "colab": {
          "base_uri": "https://localhost:8080/"
        },
        "outputId": "8e193e33-b525-478c-cab4-af16c5926822"
      },
      "outputs": [
        {
          "output_type": "stream",
          "name": "stdout",
          "text": [
            "return \n",
            "\t The value following this statement will be the value returned when a method/function terminates. \n",
            "\n",
            "break \n",
            "\t The current loop will stop and the operation will return to the next outer loop if loops are nested, or just stop computation. \n",
            "\n",
            "for \n",
            "\t The beginning of a for loop where each item in a list or matrix will be iterated through. \n",
            "\n",
            "while \n",
            "\t The conditional statement that follows this will be checked, as long as this statement is TRUE, the contents inside will be run. Then the conditional statement will be checked again. \n",
            "\n",
            "elif \n",
            "\t Traditionally else-if meaning the following chuck of code should be run if the preceding if statements returned FALSE and the conditional statement following this keyword is TRUE. \n",
            "\n",
            "def \n",
            "\t Defining the beginning of a function or method. \n",
            "\n",
            "class \n",
            "\t Creates a new class, which is useful in object-oriented programming. \n",
            "\n",
            "__init__ \n",
            "\t The init function, also known as the constructor, accepts arguments as a method to create a new object belonging to its class. The class Car would have an __init__ constructor that might accept arguments for gas tank size and engine size. \n",
            "\n",
            "kargs \n",
            "\t A very useful tool for flexible programming, this is a keyword that allows the user to provide any arguments they want to a new object, regardless of the parameters included in the __init__ method. This keyword will lump any unassigned parameters into this group as it instantiates an object belonging to the given class. \n",
            "\n",
            "in \n",
            "\t Preceded by a name of an object, and followed by a list of objects, this keyword is often used in for loop statements to specify the current object in a given list as it iterates one by one through the list. \n",
            "\n"
          ]
        }
      ],
      "source": [
        "programming = {\n",
        "    \"return\": \"The value following this statement will be the value returned when a method/function terminates.\",\n",
        "    \"break\": \"The current loop will stop and the operation will return to the next outer loop if loops are nested, or just stop computation.\",\n",
        "    \"for\": \"The beginning of a for loop where each item in a list or matrix will be iterated through.\",\n",
        "    \"while\": \"The conditional statement that follows this will be checked, as long as this statement is TRUE, the contents inside will be run. Then the conditional statement will be checked again.\",\n",
        "    \"elif\": \"Traditionally else-if meaning the following chuck of code should be run if the preceding if statements returned FALSE and the conditional statement following this keyword is TRUE.\",\n",
        "    \"def\": \"Defining the beginning of a function or method.\",\n",
        "    \"class\": \"Creates a new class, which is useful in object-oriented programming.\",\n",
        "    \"__init__\": \"The init function, also known as the constructor, accepts arguments as a method to create a new object belonging to its class. The class Car would have an __init__ constructor that might accept arguments for gas tank size and engine size.\",\n",
        "    \"kargs\": \"A very useful tool for flexible programming, this is a keyword that allows the user to provide any arguments they want to a new object, regardless of the parameters included in the __init__ method. This keyword will lump any unassigned parameters into this group as it instantiates an object belonging to the given class.\",\n",
        "    \"in\": \"Preceded by a name of an object, and followed by a list of objects, this keyword is often used in for loop statements to specify the current object in a given list as it iterates one by one through the list.\"\n",
        "}\n",
        "\n",
        "keys = programming.keys()\n",
        "\n",
        "for key in keys:\n",
        "  print(key, \"\\n\\t\", programming[key], \"\\n\")"
      ]
    },
    {
      "cell_type": "markdown",
      "id": "375356d5",
      "metadata": {
        "id": "375356d5"
      },
      "source": [
        "## Question 5\n",
        "\n",
        "**Rivers:** Make a dictionary containing three major rivers and the country each river runs through. One key-value pair might be 'nile': 'egypt'.\n",
        "\n",
        "- Use a loop to print a sentence about each river, such as _The Nile runs through Egypt._\n",
        "- Use a loop to print the name of each river included in the dictionary.\n",
        "- Use a loop to print the name of each country included in the dictionary."
      ]
    },
    {
      "cell_type": "code",
      "execution_count": 7,
      "id": "2fd7b758",
      "metadata": {
        "id": "2fd7b758",
        "colab": {
          "base_uri": "https://localhost:8080/"
        },
        "outputId": "8650f817-97b5-4635-d103-a33eb79f645c"
      },
      "outputs": [
        {
          "output_type": "stream",
          "name": "stdout",
          "text": [
            "The Mississippi River runs through the United States of America.\n",
            "The Amazon River runs through Peru, Colombia, and Brazil.\n",
            "The River Thames runs through England.\n"
          ]
        }
      ],
      "source": [
        "rivers = {\n",
        "    \"Mississippi River\": \"the United States of America\",\n",
        "    \"Amazon River\": \"Peru, Colombia, and Brazil\",\n",
        "    \"River Thames\": \"England\"\n",
        "}\n",
        "\n",
        "keys = rivers.keys()\n",
        "\n",
        "for key in keys:\n",
        "  print(\"The \", key, \" runs through \", rivers[key], \".\", sep=\"\")"
      ]
    },
    {
      "cell_type": "markdown",
      "id": "8b0b500d",
      "metadata": {
        "id": "8b0b500d"
      },
      "source": [
        "## Question 6\n",
        "\n",
        "**Cities:** Make a dictionary called `cities`. Use the names of three cities as keys in your dictionary. Create a dictionary of information about each city and include the country that the city is in, its approximate population, and one fact about that city. The keys for each city’s dictionary should be something like `country`, `population`, and `fact`. Print the name of each city and all of the information you have stored about it."
      ]
    },
    {
      "cell_type": "code",
      "execution_count": 8,
      "id": "28a77010",
      "metadata": {
        "id": "28a77010",
        "colab": {
          "base_uri": "https://localhost:8080/"
        },
        "outputId": "038d2410-f361-46eb-a022-46c253ab0cc8"
      },
      "outputs": [
        {
          "output_type": "stream",
          "name": "stdout",
          "text": [
            "New York City\n",
            "\n",
            "\t country : USA\n",
            "\n",
            "\tpopulation : 8.5m\n",
            "\n",
            "\tfact : New York is the location of the most iconic New Year's Eve celebration in the US.\n",
            "Sydney\n",
            "\n",
            "\t country : Australia\n",
            "\n",
            "\tpopulation : 5.3m\n",
            "\n",
            "\tfact : The Sydney Opera House and the Sydney Harbour Bridge are two of the iconic structures in the Sydney skyline.\n",
            "London\n",
            "\n",
            "\t country : England\n",
            "\n",
            "\tpopulation : 8.9m\n",
            "\n",
            "\tfact : The River Thames runs through London.\n"
          ]
        }
      ],
      "source": [
        "cities = {\n",
        "    \"New York City\": {\"country\": \"USA\", \"population\": \"8.5m\", \"fact\": \"New York is the location of the most iconic New Year's Eve celebration in the US.\"},\n",
        "    \"Sydney\": {\"country\": \"Australia\", \"population\": \"5.3m\", \"fact\": \"The Sydney Opera House and the Sydney Harbour Bridge are two of the iconic structures in the Sydney skyline.\"},\n",
        "    \"London\": {\"country\": \"England\", \"population\": \"8.9m\", \"fact\": \"The River Thames runs through London.\"},\n",
        "}\n",
        "\n",
        "keys = cities.keys()\n",
        "\n",
        "for key in keys:\n",
        "  print(key)\n",
        "  print(\"\\n\\t country :\", cities[key].get(\"country\"))\n",
        "  print(\"\\n\\tpopulation :\", cities[key].get(\"population\"))\n",
        "  print(\"\\n\\tfact :\", cities[key].get(\"fact\"))"
      ]
    },
    {
      "cell_type": "markdown",
      "id": "874541d3",
      "metadata": {
        "id": "874541d3"
      },
      "source": [
        "## Question 7\n",
        "\n",
        "**Rental Car:** Write a program that asks the user what kind of rental car they would like. Print a message about that car, such as “Let me see if I can find you a Subaru.”"
      ]
    },
    {
      "cell_type": "code",
      "execution_count": 9,
      "id": "5283628b",
      "metadata": {
        "id": "5283628b",
        "colab": {
          "base_uri": "https://localhost:8080/"
        },
        "outputId": "7b7563f5-693c-4b98-9af2-6b1cda4cfbfa"
      },
      "outputs": [
        {
          "output_type": "stream",
          "name": "stdout",
          "text": [
            "What kind of rental car would you like? \n",
            "Jeep\n",
            "I think we have one of those, let me check to see if we have a Jeep.\n"
          ]
        }
      ],
      "source": [
        "car = input(\"What kind of rental car would you like? \\n\")\n",
        "\n",
        "print(\"I think we have one of those, let me check to see if we have a \", car, \".\", sep=\"\")"
      ]
    },
    {
      "cell_type": "markdown",
      "id": "e03a200a",
      "metadata": {
        "id": "e03a200a"
      },
      "source": [
        "## Question 8\n",
        "\n",
        "**Restaurant Seating:** Write a program that asks the user how many people are in their dinner group. If the answer is more than eight, print a message saying they’ll have to wait for a table. Otherwise, report that their table is ready."
      ]
    },
    {
      "cell_type": "code",
      "execution_count": 10,
      "id": "96167a0f",
      "metadata": {
        "id": "96167a0f",
        "colab": {
          "base_uri": "https://localhost:8080/"
        },
        "outputId": "6ec7eb40-59ed-4cf3-8eb6-b71f0ff812e2"
      },
      "outputs": [
        {
          "output_type": "stream",
          "name": "stdout",
          "text": [
            "How many people will be in your dinner group? \n",
            "9\n",
            "You'll have to wait for a table.\n"
          ]
        }
      ],
      "source": [
        "num = input(\"How many people will be in your dinner group? \\n\")\n",
        "num=int(num)\n",
        "\n",
        "if num>8:\n",
        "  print(\"You'll have to wait for a table.\")\n",
        "\n",
        "else:\n",
        "  print(\"Ok, you're table is ready.\")\n"
      ]
    },
    {
      "cell_type": "markdown",
      "id": "a523d8a7",
      "metadata": {
        "id": "a523d8a7"
      },
      "source": [
        "## Question 9\n",
        "\n",
        "**Multiples of Ten:** Ask the user for a number, and then report whether the number is a multiple of 10 or not."
      ]
    },
    {
      "cell_type": "code",
      "execution_count": 11,
      "id": "77c9702e",
      "metadata": {
        "id": "77c9702e",
        "colab": {
          "base_uri": "https://localhost:8080/"
        },
        "outputId": "28af0f04-7c7f-4222-d9cc-0a82241d3a93"
      },
      "outputs": [
        {
          "output_type": "stream",
          "name": "stdout",
          "text": [
            "Please enter a number. \n",
            "0\n",
            "0.0 is a multiple of 10.\n"
          ]
        }
      ],
      "source": [
        "num = input(\"Please enter a number. \\n\")\n",
        "num=float(num)\n",
        "\n",
        "if num%10.0==0.0:\n",
        "  print(num, \" is a multiple of 10.\", sep=\"\")\n",
        "\n",
        "else:\n",
        "  print(num, \" is not a multiple of 10.\", sep=\"\")"
      ]
    },
    {
      "cell_type": "markdown",
      "id": "de550983",
      "metadata": {
        "id": "de550983"
      },
      "source": [
        "## Question 10\n",
        "\n",
        "**Pizza Toppings:** Write a loop that prompts the user to enter a series of pizza toppings until they enter a 'quit' value. As they enter each topping, print a message saying you’ll add that topping to their pizza."
      ]
    },
    {
      "cell_type": "code",
      "execution_count": 12,
      "id": "11f4d8e4",
      "metadata": {
        "id": "11f4d8e4",
        "colab": {
          "base_uri": "https://localhost:8080/"
        },
        "outputId": "95dafab1-dfb7-409e-9ad8-892193140a6c"
      },
      "outputs": [
        {
          "name": "stdout",
          "output_type": "stream",
          "text": [
            "I'll add  to your pizza.\n",
            "Enter pizza toppings, when done, type \"quit\"\n",
            "quit\n"
          ]
        }
      ],
      "source": [
        "topping=\"\"\n",
        "\n",
        "while topping !=\"quit\":\n",
        "\n",
        "  print(\"I'll add \", topping, \" to your pizza.\", sep=\"\")\n",
        "  topping = input(\"Enter pizza toppings, when done, type \\\"quit\\\"\\n\")\n"
      ]
    },
    {
      "cell_type": "markdown",
      "id": "ccfe4831",
      "metadata": {
        "id": "ccfe4831"
      },
      "source": [
        "## Question 11\n",
        "\n",
        "**Message:** Write a function called `display_message()` that prints one sentence telling everyone what you are learning about in this chapter. Call the function, and make sure the message displays correctly."
      ]
    },
    {
      "cell_type": "code",
      "execution_count": 13,
      "id": "7080b52a",
      "metadata": {
        "id": "7080b52a"
      },
      "outputs": [],
      "source": [
        "def display_message():\n",
        "  print(\"I was not familiar with the concept of a python dictionary until last week.\")\n"
      ]
    },
    {
      "cell_type": "code",
      "source": [
        "display_message()"
      ],
      "metadata": {
        "colab": {
          "base_uri": "https://localhost:8080/"
        },
        "id": "XBXXLzjV8-5B",
        "outputId": "01290462-19dc-4bc7-be2f-027a56915333"
      },
      "id": "XBXXLzjV8-5B",
      "execution_count": 14,
      "outputs": [
        {
          "output_type": "stream",
          "name": "stdout",
          "text": [
            "I was not familiar with the concept of a python dictionary until last week.\n"
          ]
        }
      ]
    },
    {
      "cell_type": "markdown",
      "id": "2b5e23db",
      "metadata": {
        "id": "2b5e23db"
      },
      "source": [
        "## Question 12\n",
        "\n",
        "**Favorite Book:** Write a function called `favorite_book()` that accepts one parameter, title. The function should print a message, such as `One of my favorite books is Alice in Wonderland`. Call the function, making sure to include a book title as an argument in the function call."
      ]
    },
    {
      "cell_type": "code",
      "execution_count": 15,
      "id": "b33bd108",
      "metadata": {
        "id": "b33bd108"
      },
      "outputs": [],
      "source": [
        "def favorite_book(title):\n",
        "  print(title, \" is my favorite book!\", sep=\"\")"
      ]
    },
    {
      "cell_type": "code",
      "source": [
        "favorite_book(\"A Wrinkle in Time\")"
      ],
      "metadata": {
        "colab": {
          "base_uri": "https://localhost:8080/"
        },
        "id": "0OUJLO-i9W-2",
        "outputId": "f904d6aa-3d4d-48d6-9450-90d79f94d109"
      },
      "id": "0OUJLO-i9W-2",
      "execution_count": 16,
      "outputs": [
        {
          "output_type": "stream",
          "name": "stdout",
          "text": [
            "A Wrinkle in Time is my favorite book!\n"
          ]
        }
      ]
    },
    {
      "cell_type": "markdown",
      "id": "4904419f",
      "metadata": {
        "id": "4904419f"
      },
      "source": [
        "## Question 13\n",
        "\n",
        "**T-Shirt:** Write a function called `make_shirt()` that accepts a size and the text of a message that should be printed on the shirt. The function should print a sentence summarizing the size of the shirt and the message printed on it.\n",
        "\n",
        "Call the function once using positional arguments to make a shirt. Call the function a second time using keyword arguments."
      ]
    },
    {
      "cell_type": "code",
      "execution_count": 17,
      "id": "53d690ca",
      "metadata": {
        "id": "53d690ca"
      },
      "outputs": [],
      "source": [
        "def make_shirt(size, mess):\n",
        "  print(\"The shirt will be sized \", size, \" and will say \", mess, sep=\"\")\n"
      ]
    },
    {
      "cell_type": "code",
      "source": [
        "make_shirt(\"XL\", \"This is a cool shirt.\")\n",
        "\n",
        "make_shirt(mess=\"Here's Johnny!\", size=\"M\")"
      ],
      "metadata": {
        "colab": {
          "base_uri": "https://localhost:8080/"
        },
        "id": "stdRDDxODnMV",
        "outputId": "c0078590-8e12-45d2-d320-a99682466f78"
      },
      "id": "stdRDDxODnMV",
      "execution_count": 18,
      "outputs": [
        {
          "output_type": "stream",
          "name": "stdout",
          "text": [
            "The shirt will be sized XL and will say This is a cool shirt.\n",
            "The shirt will be sized M and will say Here's Johnny!\n"
          ]
        }
      ]
    },
    {
      "cell_type": "markdown",
      "id": "c6a6dc4b",
      "metadata": {
        "id": "c6a6dc4b"
      },
      "source": [
        "## Question 14\n",
        "\n",
        "**Large Shirts:** Modify the `make_shirt()` function so that shirts are large by default with a message that reads _I love Python_. Make a large shirt and a medium shirt with the default message, and a shirt of any size with a different message."
      ]
    },
    {
      "cell_type": "code",
      "execution_count": 19,
      "id": "658f7e3f",
      "metadata": {
        "id": "658f7e3f"
      },
      "outputs": [],
      "source": [
        "def make_shirt(size=\"large\", mess=\"I love Python.\"):\n",
        "  print(\"The shirt will be sized \", size, \" and will say \", mess, sep=\"\")\n"
      ]
    },
    {
      "cell_type": "code",
      "source": [
        "make_shirt()\n",
        "\n",
        "make_shirt(size=\"medium\")\n",
        "\n",
        "make_shirt(size=\"small\", mess=\"This is a small shirt.\")"
      ],
      "metadata": {
        "colab": {
          "base_uri": "https://localhost:8080/"
        },
        "id": "s14Dx3MCEna5",
        "outputId": "59b18bc7-c018-4f24-d758-a864e7f299de"
      },
      "id": "s14Dx3MCEna5",
      "execution_count": 20,
      "outputs": [
        {
          "output_type": "stream",
          "name": "stdout",
          "text": [
            "The shirt will be sized large and will say I love Python.\n",
            "The shirt will be sized medium and will say I love Python.\n",
            "The shirt will be sized small and will say This is a small shirt.\n"
          ]
        }
      ]
    },
    {
      "cell_type": "markdown",
      "id": "64fd6e85",
      "metadata": {
        "id": "64fd6e85"
      },
      "source": [
        "## Question 15\n",
        "\n",
        "**Cities:** Write a function called `describe_city()` that accepts the name of a city and its country. The function should print a simple sentence, such as `Reykjavik is in Iceland`. Give the parameter for the country a default value. Call your function for three different cities, at least one of which is not in the default country."
      ]
    },
    {
      "cell_type": "code",
      "execution_count": 21,
      "id": "bc493373",
      "metadata": {
        "id": "bc493373",
        "colab": {
          "base_uri": "https://localhost:8080/"
        },
        "outputId": "3188abe7-6b75-4049-d9b3-edb3d736ea23"
      },
      "outputs": [
        {
          "output_type": "stream",
          "name": "stdout",
          "text": [
            "NYC is in USA\n",
            "LA is in USA\n",
            "Johannesburg is in South Africa\n"
          ]
        }
      ],
      "source": [
        "def describe_city(city, country=\"USA\"):\n",
        "  print(city, \" is in \", country, sep=\"\")\n",
        "\n",
        "\n",
        "describe_city(city=\"NYC\")\n",
        "describe_city(city=\"LA\")\n",
        "describe_city(city=\"Johannesburg\", country=\"South Africa\")"
      ]
    },
    {
      "cell_type": "markdown",
      "id": "259cdcdc",
      "metadata": {
        "id": "259cdcdc"
      },
      "source": [
        "## Question 16\n",
        "\n",
        "**City Names:** Write a function called `city_country()` that takes in the name of a city and its country. The function should return a string formatted like this:\n",
        "\n",
        "```text\n",
        "Santiago, Chile\n",
        "```\n",
        "\n",
        "Call your function with at least three city-country pairs, and print the values that are returned."
      ]
    },
    {
      "cell_type": "code",
      "execution_count": 22,
      "id": "f1b5b16e",
      "metadata": {
        "id": "f1b5b16e",
        "colab": {
          "base_uri": "https://localhost:8080/"
        },
        "outputId": "25a424de-108a-4954-9ff2-4edbb5a2e78e"
      },
      "outputs": [
        {
          "output_type": "stream",
          "name": "stdout",
          "text": [
            "Tallahassee, USA\n",
            "Sydney, Australia\n",
            "Dublin, Ireland\n"
          ]
        }
      ],
      "source": [
        "def city_country(city, country):\n",
        "  print(city, \", \", country, sep=\"\")\n",
        "\n",
        "city_country(\"Tallahassee\", \"USA\")\n",
        "city_country(\"Sydney\", \"Australia\")\n",
        "city_country(\"Dublin\", \"Ireland\")"
      ]
    },
    {
      "cell_type": "markdown",
      "id": "491f64a4",
      "metadata": {
        "id": "491f64a4"
      },
      "source": [
        "## Question 17\n",
        "\n",
        "**Album:** Write a function called `make_album()` that builds a dictionary describing a music album. The function should take in an artist name and an album title, and it should return a dictionary containing these two pieces of information. Use the function to make three dictionaries representing different albums. Print each return value to show that the dictionaries are storing the album information correctly.\n",
        "\n",
        "Use None to add an optional parameter to make_album() that allows you to store the number of songs on an album. If the calling line includes a value for the number of songs, add that value to the album’s dictionary. Make at least one new function call that includes the number of songs on an album."
      ]
    },
    {
      "cell_type": "code",
      "execution_count": 23,
      "id": "550b2be6",
      "metadata": {
        "id": "550b2be6",
        "colab": {
          "base_uri": "https://localhost:8080/"
        },
        "outputId": "034c4c4d-b99e-4bb6-af89-c7f3f8b833ca"
      },
      "outputs": [
        {
          "output_type": "stream",
          "name": "stdout",
          "text": [
            "{'artist': 'Led Zeppelin', 'album': 'Stairway to Heaven', 'number of songs': None}\n",
            "{'artist': 'Kameron Marlowe', 'album': \"Country Boy's Prayer\", 'number of songs': None}\n",
            "{'artist': 'Luke Combs', 'album': \"What You See Ain't Always What You Get\", 'number of songs': None}\n",
            "{'artist': 'Zac Brown Band', 'album': 'The Comeback', 'number of songs': 15}\n"
          ]
        }
      ],
      "source": [
        "def make_album(artist, album, number = None):\n",
        "  dictionary = {\"artist\" : artist,\n",
        "                \"album\" : album,\n",
        "                \"number of songs\" : number}\n",
        "  return dictionary\n",
        "\n",
        "\n",
        "print(make_album(\"Led Zeppelin\", \"Stairway to Heaven\"))\n",
        "print(make_album(\"Kameron Marlowe\", \"Country Boy's Prayer\"))\n",
        "print(make_album(\"Luke Combs\", \"What You See Ain't Always What You Get\"))\n",
        "\n",
        "print(make_album(\"Zac Brown Band\", \"The Comeback\", 15))\n"
      ]
    },
    {
      "cell_type": "markdown",
      "id": "42f6a72f",
      "metadata": {
        "id": "42f6a72f"
      },
      "source": [
        "## Question 18\n",
        "\n",
        "**User Albums:** Start with your program from Question 17. Write a `while` loop that allows users to enter an album’s artist and title. Once you have that information, call `make_album()` with the user’s input and print the dictionary that’s created. Be sure to include a quit value in the `while` loop."
      ]
    },
    {
      "cell_type": "code",
      "execution_count": 24,
      "id": "2ba9b4ba",
      "metadata": {
        "id": "2ba9b4ba",
        "colab": {
          "base_uri": "https://localhost:8080/"
        },
        "outputId": "7c646f98-9745-41a4-d4fb-a2e51f13df70"
      },
      "outputs": [
        {
          "name": "stdout",
          "output_type": "stream",
          "text": [
            "{'artist': '', 'album': '', 'number of songs': ''}\n",
            "Enter the artist. When done, type \"quit\"\n",
            "quit\n"
          ]
        }
      ],
      "source": [
        "album=\"\"\n",
        "artist=\"\"\n",
        "number=\"\"\n",
        "\n",
        "while artist !=\"quit\" and album !=\"quit\" and number != \"quit\":\n",
        "\n",
        "  print(make_album(artist, album, number))\n",
        "  artist = input(\"Enter the artist. When done, type \\\"quit\\\"\\n\")\n",
        "  if artist != \"quit\":\n",
        "    album = input(\"Enter the album. When done, type \\\"quit\\\"\\n\")\n",
        "\n",
        "    if album != \"quit\":\n",
        "      number = input(\"Enter the number of songs. When done, type \\\"quit\\\"\\n\")\n",
        "\n",
        "\n"
      ]
    },
    {
      "cell_type": "markdown",
      "id": "97bab8c2",
      "metadata": {
        "id": "97bab8c2"
      },
      "source": [
        "## Question 19\n",
        "\n",
        "**Messages:** Make a list containing a series of short text messages. Pass the list to a function called `show_messages()`, which prints each text message."
      ]
    },
    {
      "cell_type": "code",
      "execution_count": 25,
      "id": "f8f3ee4e",
      "metadata": {
        "id": "f8f3ee4e",
        "colab": {
          "base_uri": "https://localhost:8080/"
        },
        "outputId": "53b08a42-8ffc-4c9f-a3ed-809097dc14f0"
      },
      "outputs": [
        {
          "output_type": "stream",
          "name": "stdout",
          "text": [
            "lol\n",
            "lmk\n",
            "fyi\n",
            "tbh\n"
          ]
        }
      ],
      "source": [
        "def show_messages(text):\n",
        "  if isinstance(text, list):\n",
        "    for i in text:\n",
        "      print(i)\n",
        "\n",
        "texts = [\"lol\", \"lmk\", \"fyi\", \"tbh\"]\n",
        "\n",
        "show_messages(texts)"
      ]
    },
    {
      "cell_type": "markdown",
      "id": "a8bcea3c",
      "metadata": {
        "id": "a8bcea3c"
      },
      "source": [
        "## Question 20\n",
        "\n",
        "**Sending Messages:** Start with a copy of your program from Question 19. Write a function called `send_messages()` that prints each text message and moves each message to a new list called `sent_messages` as it’s printed. After calling the function, print both of your lists to make sure the messages were moved correctly."
      ]
    },
    {
      "cell_type": "code",
      "execution_count": 26,
      "id": "c5340719",
      "metadata": {
        "id": "c5340719",
        "colab": {
          "base_uri": "https://localhost:8080/"
        },
        "outputId": "c3cb3067-748e-4997-83ab-5a7dd56723c4"
      },
      "outputs": [
        {
          "output_type": "stream",
          "name": "stdout",
          "text": [
            "lol\n",
            "lmk\n",
            "fyi\n",
            "tbh\n",
            "['lol', 'lmk', 'fyi', 'tbh']\n",
            "['lol', 'lmk', 'fyi', 'tbh']\n"
          ]
        }
      ],
      "source": [
        "def show_messages(text, newlist):\n",
        "  if isinstance(text, list):\n",
        "    for i in text:\n",
        "      newlist.append(i)\n",
        "      print(i)\n",
        "  \n",
        "\n",
        "texts = [\"lol\", \"lmk\", \"fyi\", \"tbh\"]\n",
        "newlist = []\n",
        "show_messages(texts, newlist)\n",
        "\n",
        "print(newlist)\n",
        "print(texts)"
      ]
    },
    {
      "cell_type": "markdown",
      "id": "c98f1dd0",
      "metadata": {
        "id": "c98f1dd0"
      },
      "source": [
        "## Question 21\n",
        "\n",
        "**Learning Python:** Open a blank file in your text editor and write a few lines summarizing what you’ve learned about Python so far. Start each line with the phrase _In Python you can. . .._ Save the file as _learning_python.txt_ in the same directory as your exercises from this chapter. Write a program that reads the file and prints what you wrote three times. Print the contents once by reading in the entire file, once by looping over the file object, and once by storing the lines in a list and then working with them outside the _with_ block."
      ]
    },
    {
      "cell_type": "code",
      "execution_count": 27,
      "id": "cb5da040",
      "metadata": {
        "id": "cb5da040",
        "colab": {
          "base_uri": "https://localhost:8080/"
        },
        "outputId": "72a1ab0f-8007-47de-8aa3-c858fb3e9236"
      },
      "outputs": [
        {
          "output_type": "stream",
          "name": "stderr",
          "text": [
            "Downloading...\n",
            "From: https://raw.githubusercontent.com/ZachDorm/GEOG-510-Lab-5/main/learning_python.txt\n",
            "To: /content/learning_python.txt\n",
            "198B [00:00, 105kB/s]                    "
          ]
        },
        {
          "output_type": "stream",
          "name": "stdout",
          "text": [
            "In python you can use dictionaries to save information linked to keys.\n",
            "In python you can upload .txt files and work with them.\n",
            "In python you can interact with users and their input to the program.\n",
            "['In python you can use dictionaries to save information linked to keys.\\n', 'In python you can upload .txt files and work with them.\\n', 'In python you can interact with users and their input to the program.']\n"
          ]
        },
        {
          "output_type": "stream",
          "name": "stderr",
          "text": [
            "\n"
          ]
        }
      ],
      "source": [
        "leafmap.download_file(\"https://github.com/ZachDorm/GEOG-510-Lab-5/blob/main/learning_python.txt\")\n",
        "\n",
        "with open(\"/content/learning_python.txt\", \"r\") as file_object:\n",
        "   print(file_object.read())\n",
        "\n",
        "with open(\"/content/learning_python.txt\", \"r\") as file_object:\n",
        "\n",
        "   print(file_object.readlines())\n",
        "# contents = []\n",
        "# with open(\"learning_python.txt\", \"r\") as file_object:\n",
        "#    contents = [file_object.read()]\n",
        "\n",
        "# for i in contents:\n",
        "#   print(i)\n"
      ]
    },
    {
      "cell_type": "markdown",
      "id": "4a1a04ad",
      "metadata": {
        "id": "4a1a04ad"
      },
      "source": [
        "## Question 22\n",
        "\n",
        "**Learning C:** You can use the replace() method to replace any word in a string with a different word. Here’s a quick example showing how to replace 'dog' with 'cat' in a sentence:\n",
        "\n",
        "```text\n",
        "message = \"I really like dogs.\"\n",
        "message.replace('dog', 'cat')\n",
        "'I really like cats.'\n",
        "```\n",
        "\n",
        "Read in each line from the file you just created, _learning_python.txt_, and replace the word _Python_ with the name of another language, such as _C_. Print each modified line to the screen."
      ]
    },
    {
      "cell_type": "code",
      "execution_count": 28,
      "id": "b11b8018",
      "metadata": {
        "id": "b11b8018",
        "colab": {
          "base_uri": "https://localhost:8080/"
        },
        "outputId": "64a02a18-70e0-4558-e4d9-ea1338bcb92d"
      },
      "outputs": [
        {
          "output_type": "stream",
          "name": "stdout",
          "text": [
            "In R you can use dictionaries to save information linked to keys.\n",
            "In R you can upload .txt files and work with them.\n",
            "In R you can interact with users and their input to the program.\n"
          ]
        }
      ],
      "source": [
        "with open(\"/content/learning_python.txt\", \"r\") as file_object:\n",
        "  print(file_object.read().replace(\"python\", \"R\"))\n"
      ]
    },
    {
      "cell_type": "markdown",
      "id": "0921244a",
      "metadata": {
        "id": "0921244a"
      },
      "source": [
        "## Question 23\n",
        "\n",
        "**Guest:** Write a program that prompts the user for their name. When they respond, write their name to a file called guest.txt."
      ]
    },
    {
      "cell_type": "code",
      "execution_count": 29,
      "id": "340d8f4b",
      "metadata": {
        "id": "340d8f4b",
        "colab": {
          "base_uri": "https://localhost:8080/"
        },
        "outputId": "4e7abe48-24c2-49d6-cf46-8bd5ac095d38"
      },
      "outputs": [
        {
          "output_type": "stream",
          "name": "stdout",
          "text": [
            "Please enter your name.\n",
            "Zach\n",
            "Zach\n"
          ]
        }
      ],
      "source": [
        "name = input(\"Please enter your name.\\n\")\n",
        "\n",
        "with open(\"guest.txt\", \"w\") as file_object:\n",
        "  file_object.write(name)\n",
        "\n",
        "with open(\"guest.txt\") as file_object:\n",
        "  print(file_object.read())\n",
        "\n"
      ]
    },
    {
      "cell_type": "markdown",
      "id": "24b72b21",
      "metadata": {
        "id": "24b72b21"
      },
      "source": [
        "## Question 24\n",
        "\n",
        "**Guest Book:** Write a while loop that prompts users for their name. When they enter their name, print a greeting to the screen and add a line recording their visit in a file called guest_book.txt. Make sure each entry appears on a new line in the file."
      ]
    },
    {
      "cell_type": "code",
      "execution_count": 30,
      "id": "2326c653",
      "metadata": {
        "id": "2326c653",
        "colab": {
          "base_uri": "https://localhost:8080/"
        },
        "outputId": "74e22d98-aca9-4831-c5eb-54cefc03c4af"
      },
      "outputs": [
        {
          "name": "stdout",
          "output_type": "stream",
          "text": [
            "Please enter your name. Enter \"quit\" to quit.\n",
            "Zach\n",
            "Please enter your name. Enter \"quit\" to quit.\n",
            "Zach\n",
            "Please enter your name. Enter \"quit\" to quit.\n",
            "Zach\n",
            "Please enter your name. Enter \"quit\" to quit.\n",
            "quit\n"
          ]
        }
      ],
      "source": [
        "cond=True\n",
        "\n",
        "while cond:\n",
        "\n",
        "  name = input(\"Please enter your name. Enter \\\"quit\\\" to quit.\\n\")\n",
        "  if(name!=\"quit\"):\n",
        "    with open(\"guest.txt\", \"a\") as file_object:\n",
        "      file_object.write(name)\n",
        "      file_object.write(\"\\n\")\n",
        "\n",
        "  else:\n",
        "    cond=False"
      ]
    },
    {
      "cell_type": "markdown",
      "id": "f3075d32",
      "metadata": {
        "id": "f3075d32"
      },
      "source": [
        "## Question 25\n",
        "\n",
        "**Programming Poll:** Write a while loop that asks people why they like programming. Each time someone enters a reason, add their reason to a file that stores all the responses."
      ]
    },
    {
      "cell_type": "code",
      "execution_count": 31,
      "id": "042dfb04",
      "metadata": {
        "id": "042dfb04",
        "colab": {
          "base_uri": "https://localhost:8080/"
        },
        "outputId": "0c726753-e804-4303-d58e-f20b51fb3ced"
      },
      "outputs": [
        {
          "name": "stdout",
          "output_type": "stream",
          "text": [
            "Please enter why you like programming. Enter \"quit\" to quit.\n",
            "Yes\n",
            "Please enter why you like programming. Enter \"quit\" to quit.\n",
            "No\n",
            "Please enter why you like programming. Enter \"quit\" to quit.\n",
            "Maybe\n",
            "Please enter why you like programming. Enter \"quit\" to quit.\n",
            "quit\n"
          ]
        }
      ],
      "source": [
        "cond=True\n",
        "\n",
        "while cond:\n",
        "\n",
        "  reason = input(\"Please enter why you like programming. Enter \\\"quit\\\" to quit.\\n\")\n",
        "  if(reason!=\"quit\"):\n",
        "    with open(\"reason.txt\", \"a\") as file_object:\n",
        "      file_object.write(reason)\n",
        "      file_object.write(\"\\n\")\n",
        "\n",
        "  else:\n",
        "    cond=False"
      ]
    },
    {
      "cell_type": "markdown",
      "id": "ed07a1ca",
      "metadata": {
        "id": "ed07a1ca"
      },
      "source": [
        "## Question 26\n",
        "\n",
        "**Addition:** One common problem when prompting for numerical input occurs when people provide text instead of numbers. When you try to convert the input to an int, you’ll get a ValueError. Write a program that prompts for two numbers. Add them together and print the result. Catch the ValueError if either input value is not a number, and print a friendly error message. Test your program by entering two numbers and then by entering some text instead of a number."
      ]
    },
    {
      "cell_type": "code",
      "execution_count": 32,
      "id": "eaf686f8",
      "metadata": {
        "id": "eaf686f8",
        "colab": {
          "base_uri": "https://localhost:8080/"
        },
        "outputId": "7e4edadf-7a3d-4878-9ddd-8700784f1d31"
      },
      "outputs": [
        {
          "output_type": "stream",
          "name": "stdout",
          "text": [
            "Please enter a number\n",
            "10\n",
            "Please enter another number\n",
            "10\n",
            "20\n"
          ]
        }
      ],
      "source": [
        "try:\n",
        "  num1 = input(\"Please enter a number\\n\")\n",
        "  num2 = input(\"Please enter another number\\n\")\n",
        "\n",
        "  sum = int(num1)+int(num2)\n",
        "  print(sum)\n",
        "\n",
        "except:\n",
        "  print(\"These are not numbers.\")"
      ]
    },
    {
      "cell_type": "markdown",
      "id": "09db5341",
      "metadata": {
        "id": "09db5341"
      },
      "source": [
        "## Question 27\n",
        "\n",
        "**Addition Calculator:** Wrap your code from Question 26 in a while loop so the user can continue entering numbers even if they make a mistake and enter text instead of a number."
      ]
    },
    {
      "cell_type": "code",
      "execution_count": 33,
      "id": "916c769d",
      "metadata": {
        "id": "916c769d",
        "colab": {
          "base_uri": "https://localhost:8080/"
        },
        "outputId": "276c789a-362f-4f32-bbee-6f81bdae44fb"
      },
      "outputs": [
        {
          "name": "stdout",
          "output_type": "stream",
          "text": [
            "To quit, simply type \"quit\"\n",
            "Please enter a number\n",
            "quit\n"
          ]
        }
      ],
      "source": [
        "num1 = \"\"\n",
        "num2 = \"\"\n",
        "\n",
        "while num1 !=\"quit\" and num2 != \"quit\":\n",
        "  try:\n",
        "    print(\"To quit, simply type \\\"quit\\\"\")\n",
        "    num1 = input(\"Please enter a number\\n\")\n",
        "\n",
        "    if num1 != \"quit\":\n",
        "      num2 = input(\"Please enter another number\\n\")\n",
        "\n",
        "      sum = int(num1)+int(num2)\n",
        "      print(sum)\n",
        "\n",
        "  except:\n",
        "    print(\"These are not numbers.\\n\\n\")"
      ]
    },
    {
      "cell_type": "markdown",
      "id": "288099a9",
      "metadata": {
        "id": "288099a9"
      },
      "source": [
        "## Question 28\n",
        "\n",
        "**Cats and Dogs:** Make two files, _cats.txt_ and _dogs.txt_. Store at least three names of cats in the first file and three names of dogs in the second file. Write a program that tries to read these files and print the contents of the file to the screen. Wrap your code in a `try-except` block to catch the `FileNotFound` error, and print a friendly message if a file is missing. Move one of the files to a different location on your system, and make sure the code in the `except` block executes properly."
      ]
    },
    {
      "cell_type": "code",
      "execution_count": 34,
      "id": "387672f6",
      "metadata": {
        "id": "387672f6",
        "colab": {
          "base_uri": "https://localhost:8080/"
        },
        "outputId": "d8e816b9-9b3c-4d47-a4c4-112fd35ab88d"
      },
      "outputs": [
        {
          "output_type": "stream",
          "name": "stderr",
          "text": [
            "Downloading...\n",
            "From: https://raw.githubusercontent.com/ZachDorm/GEOG-510-Lab-5/main/cats.txt\n",
            "To: /content/cats.txt\n",
            " 57%|█████▋    | 24.0/42.0 [00:00<00:00, 38.6kB/s]\n",
            "Downloading...\n",
            "From: https://raw.githubusercontent.com/ZachDorm/GEOG-510-Lab-5/main/dogs.txt\n",
            "To: /content/dogs.txt\n",
            " 75%|███████▍  | 47.0/63.0 [00:00<00:00, 98.1kB/s]"
          ]
        },
        {
          "output_type": "stream",
          "name": "stdout",
          "text": [
            "Siamese\n",
            "Sphynx\n",
            "Burmese\n",
            "Golden Retriever\n",
            "Black Lab\n",
            "Bluetick Coonhound\n"
          ]
        },
        {
          "output_type": "stream",
          "name": "stderr",
          "text": [
            "\n"
          ]
        }
      ],
      "source": [
        "\n",
        "try:\n",
        "\n",
        "   leafmap.download_file(\"https://github.com/ZachDorm/GEOG-510-Lab-5/blob/main/cats.txt\")\n",
        "   leafmap.download_file(\"https://github.com/ZachDorm/GEOG-510-Lab-5/blob/main/dogs.txt\")\n",
        "\n",
        "   with open(\"/content/cats.txt\") as file_object:\n",
        "     print(file_object.read())\n",
        "   with open(\"/content/dogs.txt\") as file_object:\n",
        "     print(file_object.read())\n",
        "\n",
        "\n",
        "\n",
        "except FileNotFoundError:\n",
        "   print(\"Your file seems to be missing from the Colab directory.\")"
      ]
    },
    {
      "cell_type": "markdown",
      "id": "e9d28546",
      "metadata": {
        "id": "e9d28546"
      },
      "source": [
        "## Question 29\n",
        "\n",
        "**Silent Cats and Dogs:** Modify your except block in Question 28 to fail silently if either file is missing."
      ]
    },
    {
      "cell_type": "code",
      "execution_count": 35,
      "id": "2b972722",
      "metadata": {
        "id": "2b972722",
        "colab": {
          "base_uri": "https://localhost:8080/"
        },
        "outputId": "85b09c4b-a03c-4a7d-be94-6ee705fa3dbc"
      },
      "outputs": [
        {
          "output_type": "stream",
          "name": "stdout",
          "text": [
            "cats.txt already exists. Skip downloading. Set overwrite=True to overwrite.\n",
            "dogs.txt already exists. Skip downloading. Set overwrite=True to overwrite.\n",
            "Siamese\n",
            "Sphynx\n",
            "Burmese\n",
            "Golden Retriever\n",
            "Black Lab\n",
            "Bluetick Coonhound\n"
          ]
        }
      ],
      "source": [
        "try:   \n",
        "   leafmap.download_file(\"https://github.com/ZachDorm/GEOG-510-Lab-5/blob/main/cats.txt\")\n",
        "   leafmap.download_file(\"https://github.com/ZachDorm/GEOG-510-Lab-5/blob/main/dogs.txt\")\n",
        "\n",
        "   with open(\"/content/cats.txt\") as file_object:\n",
        "     print(file_object.read())\n",
        "   with open(\"/content/dogs.txt\") as file_object:\n",
        "     print(file_object.read())\n",
        "\n",
        "except FileNotFoundError:\n",
        "  pass"
      ]
    },
    {
      "cell_type": "markdown",
      "id": "241ffab1",
      "metadata": {
        "id": "241ffab1"
      },
      "source": [
        "## Question 30\n",
        "\n",
        "**Common Words:** Visit Project Gutenberg (<https://gutenberg.org/>) and find a few texts you’d like to analyze. Download the text files for these works, or copy the raw text from your browser into a text file on your computer. You can use the `count()` method to find out how many times a word or phrase appears in a string. For example, the following code counts the number of times 'row' appears in a string:"
      ]
    },
    {
      "cell_type": "code",
      "execution_count": 36,
      "id": "2a017ac9",
      "metadata": {
        "id": "2a017ac9",
        "colab": {
          "base_uri": "https://localhost:8080/"
        },
        "outputId": "598bcceb-e9ae-40f9-b844-cb99f714b9cc"
      },
      "outputs": [
        {
          "output_type": "execute_result",
          "data": {
            "text/plain": [
              "2"
            ]
          },
          "metadata": {},
          "execution_count": 36
        }
      ],
      "source": [
        "line = \"Row, row, row your boat\"\n",
        "line.count('row')"
      ]
    },
    {
      "cell_type": "code",
      "execution_count": 37,
      "id": "41707165",
      "metadata": {
        "id": "41707165",
        "colab": {
          "base_uri": "https://localhost:8080/"
        },
        "outputId": "e33f6f6e-f752-4f2c-beff-396514d83325"
      },
      "outputs": [
        {
          "output_type": "execute_result",
          "data": {
            "text/plain": [
              "3"
            ]
          },
          "metadata": {},
          "execution_count": 37
        }
      ],
      "source": [
        "line.lower().count('row')"
      ]
    },
    {
      "cell_type": "markdown",
      "id": "5652cc4d",
      "metadata": {
        "id": "5652cc4d"
      },
      "source": [
        "Notice that converting the string to lowercase using lower() catches all appearances of the word you’re looking for, regardless of how it’s formatted.\n",
        "\n",
        "Write a program that reads the files you found at Project Gutenberg and determines how many times the word `the` appears in each text. This will be an approximation because it will also count words such as `then` and `there`. Try counting `the`, with a space in the string, and see how much lower your count is."
      ]
    },
    {
      "cell_type": "code",
      "execution_count": 38,
      "id": "55ab2af3",
      "metadata": {
        "id": "55ab2af3",
        "colab": {
          "base_uri": "https://localhost:8080/"
        },
        "outputId": "d1338864-1a26-4c7c-ab71-ed9649c6e2a1"
      },
      "outputs": [
        {
          "output_type": "stream",
          "name": "stderr",
          "text": [
            "Downloading...\n",
            "From: https://raw.githubusercontent.com/ZachDorm/GEOG-510-Lab-5/main/gutenberg1.txt\n",
            "To: /content/gutenberg1.txt\n",
            "133kB [00:00, 37.9MB/s]                    "
          ]
        },
        {
          "output_type": "stream",
          "name": "stdout",
          "text": [
            "2048\n",
            "1295\n"
          ]
        },
        {
          "output_type": "stream",
          "name": "stderr",
          "text": [
            "\n"
          ]
        }
      ],
      "source": [
        "leafmap.download_file(\"https://github.com/ZachDorm/GEOG-510-Lab-5/blob/main/gutenberg1.txt\")\n",
        "\n",
        "\n",
        "with open(\"/content/gutenberg1.txt\") as file_object:\n",
        "    contents = file_object.read()\n",
        "    print(contents.lower().count('the'))\n",
        "\n",
        "with open(\"/content/gutenberg1.txt\") as file_object:\n",
        "    contents = file_object.read()\n",
        "    print(contents.lower().count('the '))"
      ]
    },
    {
      "cell_type": "code",
      "source": [
        "leafmap.download_file(\"https://github.com/ZachDorm/GEOG-510-Lab-5/blob/main/gutenberg2.txt\")\n",
        "\n",
        "\n",
        "with open(\"/content/gutenberg2.txt\") as file_object:\n",
        "    contents = file_object.read()\n",
        "    print(contents.lower().count('the'))\n",
        "\n",
        "with open(\"/content/gutenberg2.txt\") as file_object:\n",
        "    contents = file_object.read()\n",
        "    print(contents.lower().count('the '))"
      ],
      "metadata": {
        "colab": {
          "base_uri": "https://localhost:8080/"
        },
        "id": "GAZKgqUMsTp6",
        "outputId": "11df5625-1f93-4a01-8b4b-84b2043022d5"
      },
      "id": "GAZKgqUMsTp6",
      "execution_count": 39,
      "outputs": [
        {
          "output_type": "stream",
          "name": "stderr",
          "text": [
            "Downloading...\n",
            "From: https://raw.githubusercontent.com/ZachDorm/GEOG-510-Lab-5/main/gutenberg2.txt\n",
            "To: /content/gutenberg2.txt\n",
            "339kB [00:00, 19.2MB/s]                   "
          ]
        },
        {
          "output_type": "stream",
          "name": "stdout",
          "text": [
            "6831\n",
            "5350\n"
          ]
        },
        {
          "output_type": "stream",
          "name": "stderr",
          "text": [
            "\n"
          ]
        }
      ]
    }
  ],
  "metadata": {
    "kernelspec": {
      "display_name": "Python 3",
      "language": "python",
      "name": "python3"
    },
    "colab": {
      "provenance": [],
      "include_colab_link": true
    }
  },
  "nbformat": 4,
  "nbformat_minor": 5
}
